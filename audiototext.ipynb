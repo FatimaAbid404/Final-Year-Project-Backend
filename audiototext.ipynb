{
 "cells": [
  {
   "cell_type": "code",
   "execution_count": 7,
   "id": "4f80a8fe",
   "metadata": {},
   "outputs": [
    {
     "name": "stderr",
     "output_type": "stream",
     "text": [
      "chunk:   0%|                                                                | 3/2847 [00:00<01:48, 26.10it/s, now=None]"
     ]
    },
    {
     "name": "stdout",
     "output_type": "stream",
     "text": [
      "MoviePy - Writing audio in Convert_audio.wav\n"
     ]
    },
    {
     "name": "stderr",
     "output_type": "stream",
     "text": [
      "                                                                                                                       "
     ]
    },
    {
     "name": "stdout",
     "output_type": "stream",
     "text": [
      "MoviePy - Done.\n",
      "Finished the convertion into audio...\n"
     ]
    },
    {
     "name": "stderr",
     "output_type": "stream",
     "text": [
      "\r"
     ]
    }
   ],
   "source": [
    "#pip install SpeechRecognition moviepy\n",
    "#video to audio conversion\n",
    "# Libraries import\n",
    "import moviepy.editor as mp\n",
    "\n",
    "# It will clip the video \n",
    "# subclip(starttime, endtime) to clip portion of video\n",
    "# you can remove the subclip to convert complete video\n",
    "clip = mp.VideoFileClip(r\"C:/Users/Dell/Videos/FYP/videos/video_test25/video.mp4\")\n",
    "# It will write the audio in converted_audio.wav file.\n",
    "clip.audio.write_audiofile(r\"Convert_audio.wav\")\n",
    "print(\"Finished the convertion into audio...\")"
   ]
  },
  {
   "cell_type": "code",
   "execution_count": null,
   "id": "4d7f8e24",
   "metadata": {},
   "outputs": [],
   "source": []
  },
  {
   "cell_type": "code",
   "execution_count": 1,
   "id": "01e889b2",
   "metadata": {},
   "outputs": [
    {
     "name": "stdout",
     "output_type": "stream",
     "text": [
      "\n",
      "Note: you may need to restart the kernel to use updated packages.\n"
     ]
    }
   ],
   "source": [
    "conda install -n base ipykernel --update-deps --force-reinstall"
   ]
  },
  {
   "cell_type": "code",
   "execution_count": 8,
   "id": "23db8a1f",
   "metadata": {},
   "outputs": [
    {
     "name": "stdout",
     "output_type": "stream",
     "text": [
      "Audio file read...\n"
     ]
    }
   ],
   "source": [
    "#audio to text conversion\n",
    "# Libraries import\n",
    "import speech_recognition as sr \n",
    "\n",
    "# It will read audio file\n",
    "audio = sr.AudioFile(\"Convert_audio.wav\")\n",
    "print(\"Audio file read...\")\n",
    "\n",
    "# Here the magic start\n",
    "# create an instance of recognizer as r \n",
    "r = sr.Recognizer()\n",
    "\n",
    "with audio as source:\n",
    "    audio_file = r.record(source)\n",
    "\n",
    "# Here we get our text \n",
    "result = r.recognize_google(audio_file)\n",
    "\n",
    "# Now we will store the text in file\n",
    "with open('C:/Users/Dell/Videos/FYP/videos/video_test25/AudioToText.txt',mode ='w') as file:\n",
    "    file.write(result)\n"
   ]
  },
  {
   "cell_type": "code",
   "execution_count": 5,
   "id": "292eb17d",
   "metadata": {},
   "outputs": [
    {
     "name": "stdout",
     "output_type": "stream",
     "text": [
      "Collecting pyaudio\n",
      "  Downloading PyAudio-0.2.13-cp38-cp38-win_amd64.whl (164 kB)\n",
      "Installing collected packages: pyaudio\n",
      "Successfully installed pyaudio-0.2.13\n",
      "Note: you may need to restart the kernel to use updated packages.\n"
     ]
    }
   ],
   "source": [
    "pip install pyaudio"
   ]
  },
  {
   "cell_type": "code",
   "execution_count": null,
   "id": "9882c327",
   "metadata": {},
   "outputs": [],
   "source": []
  },
  {
   "cell_type": "code",
   "execution_count": null,
   "id": "4240953d",
   "metadata": {},
   "outputs": [],
   "source": []
  },
  {
   "cell_type": "code",
   "execution_count": null,
   "id": "98a928fd",
   "metadata": {},
   "outputs": [],
   "source": []
  },
  {
   "cell_type": "code",
   "execution_count": null,
   "id": "e84766a3",
   "metadata": {},
   "outputs": [],
   "source": []
  },
  {
   "cell_type": "code",
   "execution_count": null,
   "id": "f0b8c84a",
   "metadata": {},
   "outputs": [],
   "source": []
  }
 ],
 "metadata": {
  "kernelspec": {
   "display_name": "Python 3 (ipykernel)",
   "language": "python",
   "name": "python3"
  },
  "language_info": {
   "codemirror_mode": {
    "name": "ipython",
    "version": 3
   },
   "file_extension": ".py",
   "mimetype": "text/x-python",
   "name": "python",
   "nbconvert_exporter": "python",
   "pygments_lexer": "ipython3",
   "version": "3.8.8"
  },
  "vscode": {
   "interpreter": {
    "hash": "a2ab3825ac7005fb7b26f112e9c99ae62f464c629e30b0d534c3b931b6cbc3ff"
   }
  }
 },
 "nbformat": 4,
 "nbformat_minor": 5
}
